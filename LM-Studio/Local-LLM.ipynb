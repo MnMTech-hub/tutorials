{
 "cells": [
  {
   "cell_type": "markdown",
   "id": "61106f94",
   "metadata": {
    "tags": []
   },
   "source": [
    "<center> <h1>Local LLMs on CPU with LM Studio</h1>"
   ]
  },
  {
   "cell_type": "markdown",
   "id": "2f8ed84d",
   "metadata": {
    "tags": []
   },
   "source": [
    "## 1. Install the langchain-openai package"
   ]
  },
  {
   "cell_type": "code",
   "execution_count": 2,
   "id": "1e9b9f88",
   "metadata": {
    "scrolled": true
   },
   "outputs": [
    {
     "name": "stdout",
     "output_type": "stream",
     "text": [
      "Collecting langchain-openai\n",
      "  Using cached langchain_openai-0.1.22-py3-none-any.whl (51 kB)\n",
      "Requirement already satisfied: openai<2.0.0,>=1.40.0 in c:\\users\\administrator\\anaconda3\\lib\\site-packages (from langchain-openai) (1.42.0)\n",
      "Requirement already satisfied: langchain-core<0.3.0,>=0.2.33 in c:\\users\\administrator\\anaconda3\\lib\\site-packages (from langchain-openai) (0.2.33)\n",
      "Requirement already satisfied: tiktoken<1,>=0.7 in c:\\users\\administrator\\anaconda3\\lib\\site-packages (from langchain-openai) (0.7.0)\n",
      "Requirement already satisfied: jsonpatch<2.0,>=1.33 in c:\\users\\administrator\\anaconda3\\lib\\site-packages (from langchain-core<0.3.0,>=0.2.33->langchain-openai) (1.33)\n",
      "Requirement already satisfied: packaging<25,>=23.2 in c:\\users\\administrator\\anaconda3\\lib\\site-packages (from langchain-core<0.3.0,>=0.2.33->langchain-openai) (24.1)\n",
      "Requirement already satisfied: langsmith<0.2.0,>=0.1.75 in c:\\users\\administrator\\anaconda3\\lib\\site-packages (from langchain-core<0.3.0,>=0.2.33->langchain-openai) (0.1.100)\n",
      "Requirement already satisfied: typing-extensions>=4.7 in c:\\users\\administrator\\anaconda3\\lib\\site-packages (from langchain-core<0.3.0,>=0.2.33->langchain-openai) (4.12.2)\n",
      "Requirement already satisfied: tenacity!=8.4.0,<9.0.0,>=8.1.0 in c:\\users\\administrator\\anaconda3\\lib\\site-packages (from langchain-core<0.3.0,>=0.2.33->langchain-openai) (8.5.0)\n",
      "Requirement already satisfied: pydantic<3,>=1 in c:\\users\\administrator\\anaconda3\\lib\\site-packages (from langchain-core<0.3.0,>=0.2.33->langchain-openai) (2.8.2)\n",
      "Requirement already satisfied: PyYAML>=5.3 in c:\\users\\administrator\\anaconda3\\lib\\site-packages (from langchain-core<0.3.0,>=0.2.33->langchain-openai) (6.0)\n",
      "Requirement already satisfied: httpx<1,>=0.23.0 in c:\\users\\administrator\\anaconda3\\lib\\site-packages (from openai<2.0.0,>=1.40.0->langchain-openai) (0.27.0)\n",
      "Requirement already satisfied: tqdm>4 in c:\\users\\administrator\\anaconda3\\lib\\site-packages (from openai<2.0.0,>=1.40.0->langchain-openai) (4.64.1)\n",
      "Requirement already satisfied: sniffio in c:\\users\\administrator\\anaconda3\\lib\\site-packages (from openai<2.0.0,>=1.40.0->langchain-openai) (1.2.0)\n",
      "Requirement already satisfied: anyio<5,>=3.5.0 in c:\\users\\administrator\\anaconda3\\lib\\site-packages (from openai<2.0.0,>=1.40.0->langchain-openai) (3.5.0)\n",
      "Requirement already satisfied: distro<2,>=1.7.0 in c:\\users\\administrator\\anaconda3\\lib\\site-packages (from openai<2.0.0,>=1.40.0->langchain-openai) (1.9.0)\n",
      "Requirement already satisfied: jiter<1,>=0.4.0 in c:\\users\\administrator\\anaconda3\\lib\\site-packages (from openai<2.0.0,>=1.40.0->langchain-openai) (0.5.0)\n",
      "Requirement already satisfied: regex>=2022.1.18 in c:\\users\\administrator\\anaconda3\\lib\\site-packages (from tiktoken<1,>=0.7->langchain-openai) (2022.7.9)\n",
      "Requirement already satisfied: requests>=2.26.0 in c:\\users\\administrator\\anaconda3\\lib\\site-packages (from tiktoken<1,>=0.7->langchain-openai) (2.28.1)\n",
      "Requirement already satisfied: idna>=2.8 in c:\\users\\administrator\\anaconda3\\lib\\site-packages (from anyio<5,>=3.5.0->openai<2.0.0,>=1.40.0->langchain-openai) (3.3)\n",
      "Requirement already satisfied: certifi in c:\\users\\administrator\\anaconda3\\lib\\site-packages (from httpx<1,>=0.23.0->openai<2.0.0,>=1.40.0->langchain-openai) (2022.9.14)\n",
      "Requirement already satisfied: httpcore==1.* in c:\\users\\administrator\\anaconda3\\lib\\site-packages (from httpx<1,>=0.23.0->openai<2.0.0,>=1.40.0->langchain-openai) (1.0.5)\n",
      "Requirement already satisfied: h11<0.15,>=0.13 in c:\\users\\administrator\\anaconda3\\lib\\site-packages (from httpcore==1.*->httpx<1,>=0.23.0->openai<2.0.0,>=1.40.0->langchain-openai) (0.14.0)\n",
      "Requirement already satisfied: jsonpointer>=1.9 in c:\\users\\administrator\\anaconda3\\lib\\site-packages (from jsonpatch<2.0,>=1.33->langchain-core<0.3.0,>=0.2.33->langchain-openai) (3.0.0)\n",
      "Requirement already satisfied: orjson<4.0.0,>=3.9.14 in c:\\users\\administrator\\anaconda3\\lib\\site-packages (from langsmith<0.2.0,>=0.1.75->langchain-core<0.3.0,>=0.2.33->langchain-openai) (3.10.7)\n",
      "Requirement already satisfied: annotated-types>=0.4.0 in c:\\users\\administrator\\anaconda3\\lib\\site-packages (from pydantic<3,>=1->langchain-core<0.3.0,>=0.2.33->langchain-openai) (0.7.0)\n",
      "Requirement already satisfied: pydantic-core==2.20.1 in c:\\users\\administrator\\anaconda3\\lib\\site-packages (from pydantic<3,>=1->langchain-core<0.3.0,>=0.2.33->langchain-openai) (2.20.1)\n",
      "Requirement already satisfied: charset-normalizer<3,>=2 in c:\\users\\administrator\\anaconda3\\lib\\site-packages (from requests>=2.26.0->tiktoken<1,>=0.7->langchain-openai) (2.0.4)\n",
      "Requirement already satisfied: urllib3<1.27,>=1.21.1 in c:\\users\\administrator\\anaconda3\\lib\\site-packages (from requests>=2.26.0->tiktoken<1,>=0.7->langchain-openai) (1.26.11)\n",
      "Requirement already satisfied: colorama in c:\\users\\administrator\\anaconda3\\lib\\site-packages (from tqdm>4->openai<2.0.0,>=1.40.0->langchain-openai) (0.4.5)\n",
      "Installing collected packages: langchain-openai\n",
      "Successfully installed langchain-openai-0.1.22\n"
     ]
    }
   ],
   "source": [
    "!pip install -U langchain-openai"
   ]
  },
  {
   "cell_type": "markdown",
   "id": "b591af29",
   "metadata": {
    "tags": []
   },
   "source": [
    "## 2. Instanciate a ChatOpenAI object with the LM Studio base url"
   ]
  },
  {
   "cell_type": "code",
   "execution_count": 4,
   "id": "0a553636",
   "metadata": {},
   "outputs": [],
   "source": [
    "from langchain_openai import ChatOpenAI\n",
    "llm = ChatOpenAI(base_url=\"http://localhost:1234/v1\", api_key=\"type-anything-here\")"
   ]
  },
  {
   "cell_type": "markdown",
   "id": "20ee1678",
   "metadata": {
    "tags": []
   },
   "source": [
    "## 3. Create a basic question answering chain"
   ]
  },
  {
   "cell_type": "code",
   "execution_count": 5,
   "id": "9941b47b",
   "metadata": {},
   "outputs": [],
   "source": [
    "from langchain_core.prompts import ChatPromptTemplate\n",
    "from langchain_core.output_parsers import StrOutputParser\n",
    "\n",
    "prompt = ChatPromptTemplate([\n",
    "    (\"system\", \"You are an intelligent assistant. You always provide well-reasoned answers that are both correct and helpful.\"),\n",
    "    (\"user\", \"\"\"{question}\"\"\"),\n",
    "])\n",
    "\n",
    "chain = prompt | llm | StrOutputParser()"
   ]
  },
  {
   "cell_type": "markdown",
   "id": "f33b38ad",
   "metadata": {
    "tags": []
   },
   "source": [
    "## 4. Stream the chain response"
   ]
  },
  {
   "cell_type": "code",
   "execution_count": 6,
   "id": "b6b84233",
   "metadata": {},
   "outputs": [],
   "source": [
    "def stream(question):\n",
    "    for s in chain.stream(question):\n",
    "        print(s, end=\"\", flush=True)"
   ]
  },
  {
   "cell_type": "code",
   "execution_count": 7,
   "id": "978f446a",
   "metadata": {
    "scrolled": true
   },
   "outputs": [
    {
     "name": "stdout",
     "output_type": "stream",
     "text": [
      "Here's why we experience the changing seasons:\n",
      "\n",
      "**It All Comes Down to Tilt and Orbit:**\n",
      "\n",
      "* **Earth's Axial Tilt:** Our planet Earth is tilted on its axis at approximately 23.5 degrees.  This tilt remains constant as Earth orbits around the sun. \n",
      "* **Uneven Sunlight Distribution:** Because of this tilt, different parts of Earth receive varying amounts of direct sunlight throughout the year.\n",
      "\n",
      "**Here's the Seasonal Breakdown:**\n",
      "\n",
      "1. **Summer in the Northern Hemisphere (June-August):** During summer in the Northern Hemisphere, the North Pole is tilted towards the sun. This means that the Northern Hemisphere receives more direct sunlight than any other time of year, leading to warmer temperatures and longer days. \n",
      "2. **Autumn/Fall (September-November):**  As Earth continues its orbit around the sun, the tilt causes the North Pole to move away from the sun. The Northern Hemisphere experiences a shift in sunlight distribution, resulting in shorter days and cooler temperatures. \n",
      "3. **Winter in the Northern Hemisphere (December-February):** In winter, the Northern Hemisphere is tilted furthest away from the sun.  This results in shorter days and colder temperatures. \n",
      "4. **Spring in the Northern Hemisphere (March-May):** As Earth continues its journey around the sun, the tilt slowly shifts back towards the sun, bringing longer days and warmer temperatures to the Northern Hemisphere.\n",
      "\n",
      "**The Southern Hemisphere Experiences Opposite Seasons:**\n",
      "\n",
      "*  The Southern Hemisphere is tilted oppositely to the Northern Hemisphere, so it experiences its seasons in reverse. \n",
      "    * Summer in the Southern Hemisphere: December-February\n",
      "    * Fall/Autumn: March-May\n",
      "    * Winter: June-August\n",
      "    * Spring: September-November\n",
      "\n",
      "\n",
      "**In Summary:**\n",
      "\n",
      "Seasons are a direct result of Earth's axial tilt and its elliptical orbit around the sun. The tilt causes different parts of Earth to receive varying amounts of sunlight throughout the year, leading to the cyclical changes we experience as spring, summer, fall, and winter. \n"
     ]
    }
   ],
   "source": [
    "stream(\"why are there different seasons ?\")"
   ]
  }
 ],
 "metadata": {
  "kernelspec": {
   "display_name": "Python 3 (ipykernel)",
   "language": "python",
   "name": "python3"
  },
  "language_info": {
   "codemirror_mode": {
    "name": "ipython",
    "version": 3
   },
   "file_extension": ".py",
   "mimetype": "text/x-python",
   "name": "python",
   "nbconvert_exporter": "python",
   "pygments_lexer": "ipython3",
   "version": "3.9.13"
  }
 },
 "nbformat": 4,
 "nbformat_minor": 5
}
